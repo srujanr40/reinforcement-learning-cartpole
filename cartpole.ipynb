{
 "cells": [
  {
   "cell_type": "markdown",
   "metadata": {},
   "source": [
    "# Solving Cartpole with Q-Learning (Bellman)"
   ]
  },
  {
   "cell_type": "markdown",
   "metadata": {},
   "source": [
    "## Env Setup"
   ]
  },
  {
   "cell_type": "code",
   "execution_count": null,
   "metadata": {},
   "outputs": [],
   "source": [
    "import gymnasium as gym\n",
    "import numpy as np"
   ]
  },
  {
   "cell_type": "code",
   "execution_count": null,
   "metadata": {},
   "outputs": [],
   "source": [
    "env = gym.make('CartPole-v1', render_mode='human')"
   ]
  },
  {
   "cell_type": "markdown",
   "metadata": {},
   "source": [
    "## Step and Render for random sample actions"
   ]
  },
  {
   "cell_type": "code",
   "execution_count": null,
   "metadata": {},
   "outputs": [],
   "source": [
    "episodeNumber = 10\n",
    "timeSteps = 5000\n",
    "action = -1\n",
    "\n",
    "for episodeIndex in range(episodeNumber):\n",
    "    initial_state = env.reset()\n",
    "    print(\"Episode: \", episodeIndex)\n",
    "    env.render()\n",
    "    for timeIndex in range(timeSteps):\n",
    "        print(\"TimeStep:\", timeIndex)\n",
    "        if action == 1:\n",
    "            random_action = 0\n",
    "        else:\n",
    "            random_action = 1\n",
    "        action *= -1\n",
    "        observation, reward, terminated, truncated, info = env.step(random_action)\n",
    "        if terminated:\n",
    "            break\n",
    "\n",
    "env.close()\n"
   ]
  },
  {
   "cell_type": "markdown",
   "metadata": {},
   "source": [
    "## Q-Learning Algorithm"
   ]
  },
  {
   "cell_type": "markdown",
   "metadata": {},
   "source": [
    "Bins are used to discretize the state space of the environment. Otherwise, the state space would be too large to effectively store a Q-matrix for all possible states in memory. Q-learning would not be possible due to the virtually infinite number of values the state space could take.\n",
    "\n",
    "- **alpha**: step size\n",
    "- **gamma**: discount factor\n",
    "- **epsilon**: parameter for epsilon-greedy policy\n",
    "- **number of bins**: 4D value that looks like [position_bin, velocity_bin, angle_bin, angular_velocity_bin]"
   ]
  },
  {
   "cell_type": "code",
   "execution_count": null,
   "metadata": {},
   "outputs": [],
   "source": [
    "class QLearning:\n",
    "    def __init__(self, env, alpha, gamma, epsilon, numberOfEpisodes, numberOfBins, lowerBounds, upperBounds):\n",
    "        self.env = env\n",
    "        self.alpha = alpha\n",
    "        self.gamma = gamma\n",
    "        self.epsilon = epsilon \n",
    "        self.numberOfActions = env.action_space.n \n",
    "        self.numberOfEpisodes = numberOfEpisodes\n",
    "        self.numberOfBins = numberOfBins\n",
    "        self.lowerBounds = lowerBounds\n",
    "        self.upperBounds = upperBounds\n",
    "\n",
    "        # rewards sum per episode\n",
    "        self.sumEpisodeRewards=[]\n",
    "\n",
    "        self.Qmatrix=np.random.uniform(low=0, high=1, size=(numberOfBins[0],numberOfBins[1],numberOfBins[2],numberOfBins[3],self.numberOfActions))\n",
    "\n",
    "    # convert continuous values of the state into discrete values for Q-learning\n",
    "    def getDiscreteState(self, state):\n",
    "        position = state[0]\n",
    "        velocity = state[1]\n",
    "        angle = state[2]\n",
    "        angularVelocity = state[3]\n",
    "\n",
    "        # creating discrete bins for the continuous state space\n",
    "        cartPositionBin = np.linspace(self.lowerBounds[0],self.upperBounds[0],self.numberOfBins[0])\n",
    "        cartVelocityBin = np.linspace(self.lowerBounds[1],self.upperBounds[1],self.numberOfBins[1])\n",
    "        poleAngleBin = np.linspace(self.lowerBounds[2],self.upperBounds[2],self.numberOfBins[2])\n",
    "        poleAngularVelocityBin = np.linspace(self.lowerBounds[3],self.upperBounds[3],self.numberOfBins[3])\n",
    "\n",
    "        # get indexs of the bins to which the continuous variables belong to\n",
    "        indexPosition = np.maximum(np.digitize(position, cartPositionBin)-1,0)\n",
    "        indexVelocity = np.maximum(np.digitize(velocity, cartVelocityBin)-1,0)\n",
    "        indexAngle = np.maximum(np.digitize(angle, poleAngleBin)-1,0)\n",
    "        indexAngularVelocity = np.maximum(np.digitize(angularVelocity, poleAngularVelocityBin)-1,0)\n",
    "\n",
    "        return (indexPosition, indexVelocity, indexAngle, indexAngularVelocity)\n",
    "\n",
    "    \n",
    "    def selectAction(self, state, episodeNumber):\n",
    "\n",
    "        # enabling random actions for exploration\n",
    "        if episodeNumber < 500:\n",
    "            return np.random.choice(self.numberOfActions)\n",
    "        # eventually decreasing the value for epsilon to make the algorithm more greedy\n",
    "        elif episodeNumber > 7000:\n",
    "            self.epsilon = 0.999 * self.epsilon\n",
    "        \n",
    "        randomNumber = np.random.random()\n",
    "        discreteState = self.getDiscreteState(state)\n",
    "\n",
    "        if randomNumber < self.epsilon:\n",
    "            return np.random.choice(self.numberOfActions)\n",
    "        else:\n",
    "            # select an action such that the Q-value for that action, state pair is the highest possible value in that state\n",
    "            # np.max(self.Qmatrix[discreteState]))[0] -- will return a list of actions, as there could be multiple possible max actions\n",
    "            return np.random.choice(np.where(self.Qmatrix[discreteState] == np.max(self.Qmatrix[discreteState]))[0])\n",
    "\n",
    "\n",
    "    # simulating episodes with Q-learning\n",
    "    def runEpisodes(self):\n",
    "        for episodeIndex in range(self.numberOfEpisodes):\n",
    "\n",
    "            state_S, _ = self.env.reset()\n",
    "            state_S = list(state_S)\n",
    "\n",
    "            episodeRewards = []\n",
    "\n",
    "            print(\"Episode: \", episodeIndex)\n",
    "\n",
    "            terminal_state = False\n",
    "            for _ in range(500):\n",
    "                state_S_discrete = self.getDiscreteState(state_S)\n",
    "                action_a = self.selectAction(state_S, episodeIndex)\n",
    "\n",
    "                state_S_prime, reward, terminal_state, _, _ = self.env.step(action_a)\n",
    "                episodeRewards.append(reward)\n",
    "\n",
    "                state_S_prime = list(state_S_prime)\n",
    "                state_S_prime_discrete = self.getDiscreteState(state_S_prime)\n",
    "\n",
    "                Q_max = np.max(self.Qmatrix[state_S_prime_discrete])\n",
    "\n",
    "                if not terminal_state:\n",
    "                    # update Q-values for non-terminal states\n",
    "                    diff = reward + self.gamma*Q_max - self.Qmatrix[state_S_discrete + (action_a, )]\n",
    "                    self.Qmatrix[state_S_discrete + (action_a, )] += self.alpha*diff\n",
    "                else:\n",
    "                    diff = reward - self.Qmatrix[state_S_discrete + (action_a, )]\n",
    "                    self.Qmatrix[state_S_discrete + (action_a, )] += self.alpha*(reward - self.Qmatrix[state_S_discrete + (action_a, )])\n",
    "                \n",
    "                state_S = state_S_prime\n",
    "\n",
    "                if terminal_state:\n",
    "                    break\n",
    "            \n",
    "            \n",
    "            print(\"Rewards: \", np.sum(episodeRewards))\n",
    "            self.sumEpisodeRewards.append(np.sum(episodeRewards))\n",
    "\n",
    "        \n",
    "    # final optimal policy using the Q-matrix generated by running Q-learning\n",
    "    def runOptimalPolicy(self):\n",
    "        print(\"Running optimal policy\")\n",
    "        env1 = gym.make('CartPole-v1', render_mode='human')\n",
    "        curr_state, _ = env1.reset()\n",
    "        env1.render()\n",
    "\n",
    "        timeSteps = 1000\n",
    "\n",
    "        for timeIndex in range(timeSteps):\n",
    "            print(\"TimeStep:\", timeIndex)\n",
    "            curr_state_discrete = self.getDiscreteState(curr_state)\n",
    "            # np.max(self.Qmatrix[discreteState]))[0] -- will return a list of actions, as there could be multiple possible max actions\n",
    "            optimal_action = np.random.choice(np.where(self.Qmatrix[curr_state_discrete] == np.max(self.Qmatrix[curr_state_discrete]))[0])\n",
    "\n",
    "            curr_state, reward, terminated, _, _ = env1.step(optimal_action)\n",
    "\n",
    "            if (terminated):\n",
    "                print(terminated)\n",
    "                break\n",
    "    "
   ]
  },
  {
   "cell_type": "markdown",
   "metadata": {},
   "source": [
    "## Running Q-Learning on Env"
   ]
  },
  {
   "cell_type": "code",
   "execution_count": null,
   "metadata": {},
   "outputs": [],
   "source": [
    "env=gym.make('CartPole-v1')\n",
    "state, _ = env.reset()\n",
    "\n",
    "print(state)"
   ]
  },
  {
   "cell_type": "markdown",
   "metadata": {},
   "source": [
    "### Defining bounds and bins"
   ]
  },
  {
   "cell_type": "markdown",
   "metadata": {},
   "source": [
    "Actual bounds for `cartVelocity` and `poleAngleVelocity` are -inf and +inf. Here we are setting them to a range of -3 to 3 and -10 to 10 to allow for a more reasonable Q-matrix."
   ]
  },
  {
   "cell_type": "code",
   "execution_count": null,
   "metadata": {},
   "outputs": [],
   "source": [
    "upperBounds=env.observation_space.high\n",
    "lowerBounds=env.observation_space.low\n",
    "\n",
    "upperBounds[1] = 3\n",
    "upperBounds[3] = 10\n",
    "lowerBounds[1] =- 3\n",
    "lowerBounds[3] =- 10\n",
    "\n",
    "num_bins = [30, 30, 30, 30]\n",
    "\n",
    "print(upperBounds)\n",
    "print(lowerBounds)\n",
    "print(num_bins)"
   ]
  },
  {
   "cell_type": "markdown",
   "metadata": {},
   "source": [
    "### Defining parameters"
   ]
  },
  {
   "cell_type": "markdown",
   "metadata": {},
   "source": [
    "Setting gamma to 1 mean algorithm converges faster but there is no guarantee it will converge. "
   ]
  },
  {
   "cell_type": "code",
   "execution_count": null,
   "metadata": {},
   "outputs": [],
   "source": [
    "alpha = 0.1\n",
    "gamma = 1\n",
    "epsilon = 0.2\n",
    "numberOfEpisodes = 20000"
   ]
  },
  {
   "cell_type": "code",
   "execution_count": null,
   "metadata": {},
   "outputs": [],
   "source": [
    "Q = QLearning(env, alpha, gamma, epsilon, numberOfEpisodes, num_bins, lowerBounds, upperBounds)"
   ]
  },
  {
   "cell_type": "markdown",
   "metadata": {},
   "source": [
    "### Running Q-learning on the state specified above"
   ]
  },
  {
   "cell_type": "code",
   "execution_count": null,
   "metadata": {},
   "outputs": [],
   "source": [
    "Q.runEpisodes()"
   ]
  },
  {
   "cell_type": "markdown",
   "metadata": {},
   "source": [
    "### Running optimal policy on the state specified above"
   ]
  },
  {
   "cell_type": "code",
   "execution_count": null,
   "metadata": {},
   "outputs": [],
   "source": [
    "Q.runOptimalPolicy()"
   ]
  }
 ],
 "metadata": {
  "kernelspec": {
   "display_name": "Python 3",
   "language": "python",
   "name": "python3"
  },
  "language_info": {
   "codemirror_mode": {
    "name": "ipython",
    "version": 3
   },
   "file_extension": ".py",
   "mimetype": "text/x-python",
   "name": "python",
   "nbconvert_exporter": "python",
   "pygments_lexer": "ipython3",
   "version": "3.9.6"
  }
 },
 "nbformat": 4,
 "nbformat_minor": 2
}
